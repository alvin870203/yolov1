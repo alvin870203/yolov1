{
 "cells": [
  {
   "cell_type": "code",
   "execution_count": 1,
   "metadata": {},
   "outputs": [],
   "source": [
    "import time\n",
    "import math\n",
    "import inspect\n",
    "from dataclasses import dataclass\n",
    "from typing import Any, Callable, List, Optional, Tuple\n",
    "import random\n",
    "\n",
    "import torch\n",
    "from torch import Tensor\n",
    "import torch.nn as nn\n",
    "from torch.nn import functional as F\n",
    "from torchvision.ops import box_iou, distance_box_iou"
   ]
  },
  {
   "cell_type": "markdown",
   "metadata": {},
   "source": [
    "## Box IoU"
   ]
  },
  {
   "cell_type": "code",
   "execution_count": 8,
   "metadata": {},
   "outputs": [],
   "source": [
    "def _batched_box_iou(boxes1: Tensor, boxes2: Tensor) -> Tensor:\n",
    "    \"\"\"\n",
    "    Return intersection-over-union (Jaccard index) between a batch of two sets of boxes.\n",
    "\n",
    "    Both sets of boxes are expected to be in ``(x1, y1, x2, y2)`` format with\n",
    "    ``0 <= x1 < x2`` and ``0 <= y1 < y2``.\n",
    "\n",
    "    Args:\n",
    "        boxes1 (Tensor[..., N, 4]): batch of first set of boxes\n",
    "        boxes2 (Tensor[..., M, 4]): batch of second set of boxes\n",
    "\n",
    "    Returns:\n",
    "        Tensor[..., N, M]: each NxM matrix containing the pairwise IoU values for every element in boxes1 & boxes2 pair\n",
    "    \"\"\"\n",
    "    area1 = (boxes1[..., 2] - boxes1[..., 0]) * (boxes1[..., 3] - boxes1[..., 1])  # [..., N]\n",
    "    area2 = (boxes2[..., 2] - boxes2[..., 0]) * (boxes2[..., 3] - boxes2[..., 1])  # [..., M]\n",
    "    lt = torch.max(boxes1[..., None, :2], boxes2[..., None, :, :2])  # [..., N, M, 2]\n",
    "    rb = torch.min(boxes1[..., None, 2:], boxes2[..., None, :, 2:])  # [..., N, M, 2]\n",
    "    wh = (rb - lt).clamp(min=0)  # [..., N, M, 2]\n",
    "    inter = wh[..., 0] * wh[..., 1]  # [..., N, M]\n",
    "    union = area1[..., None] + area2[..., None, :] - inter  # [..., N, M]\n",
    "    iou = inter / union  # [..., N, M]\n",
    "    return iou"
   ]
  },
  {
   "cell_type": "code",
   "execution_count": 10,
   "metadata": {},
   "outputs": [],
   "source": [
    "B = 100_000\n",
    "\n",
    "preds = torch.tensor(\n",
    "    [\n",
    "        [296.55, 93.96, 314.97, 152.79],\n",
    "        [328.94, 97.05, 342.49, 122.98],\n",
    "        [356.62, 95.47, 372.33, 147.55],\n",
    "    ]\n",
    ")\n",
    "preds = preds.unsqueeze(0).expand(B, -1, -1)\n",
    "\n",
    "target = torch.tensor(\n",
    "    [\n",
    "        [300.00, 100.00, 315.00, 150.00],\n",
    "        [330.00, 100.00, 350.00, 125.00],\n",
    "        [350.00, 100.00, 375.00, 150.00],\n",
    "    ]\n",
    ")\n",
    "target = target.unsqueeze(0).expand(B, -1, -1)"
   ]
  },
  {
   "cell_type": "code",
   "execution_count": 13,
   "metadata": {},
   "outputs": [
    {
     "name": "stdout",
     "output_type": "stream",
     "text": [
      "torchvision.ops.box_iou: 4.528836488723755\n"
     ]
    }
   ],
   "source": [
    "t0 = time.time()\n",
    "for i in range(B):\n",
    "    iou = box_iou(preds[i], target[i])\n",
    "t1 = time.time()\n",
    "print(iou)  # tensor([[0.6898, 0.0000, 0.0000],\n",
    "            #         [0.0000, 0.5086, 0.0000],\n",
    "            #         [0.0000, 0.0000, 0.5654]])\n",
    "print(\"torchvision.ops.box_iou:\", t1-t0)"
   ]
  },
  {
   "cell_type": "code",
   "execution_count": 15,
   "metadata": {},
   "outputs": [
    {
     "name": "stdout",
     "output_type": "stream",
     "text": [
      "tensor([[0.6898, 0.0000, 0.0000],\n",
      "        [0.0000, 0.5086, 0.0000],\n",
      "        [0.0000, 0.0000, 0.5654]])\n",
      "torchvision.ops.box_iou: 4.543814420700073\n"
     ]
    }
   ],
   "source": [
    "t0 = time.time()\n",
    "for p, t in zip(preds, target):\n",
    "    iou = box_iou(p, t)\n",
    "t1 = time.time()\n",
    "print(iou)  # tensor([[0.6898, 0.0000, 0.0000],\n",
    "            #         [0.0000, 0.5086, 0.0000],\n",
    "            #         [0.0000, 0.0000, 0.5654]])\n",
    "print(\"torchvision.ops.box_iou:\", t1-t0)"
   ]
  },
  {
   "cell_type": "code",
   "execution_count": 58,
   "metadata": {},
   "outputs": [
    {
     "name": "stdout",
     "output_type": "stream",
     "text": [
      "torch.Size([100000, 3, 3])\n",
      "tensor([[0.6898, 0.0000, 0.0000],\n",
      "        [0.0000, 0.5086, 0.0000],\n",
      "        [0.0000, 0.0000, 0.5654]])\n",
      "_batched_box_iou: 0.003949642181396484\n"
     ]
    }
   ],
   "source": [
    "t0 = time.time()\n",
    "iou = _batched_box_iou(preds, target)\n",
    "t1 = time.time()\n",
    "print(iou.shape)\n",
    "print(iou[11])  # tensor([[0.6898, 0.0000, 0.0000],\n",
    "                #         [0.0000, 0.5086, 0.0000],\n",
    "                #         [0.0000, 0.0000, 0.5654]])\n",
    "print(\"_batched_box_iou:\", t1-t0)"
   ]
  },
  {
   "cell_type": "markdown",
   "metadata": {},
   "source": [
    "## Distance Box IoU"
   ]
  },
  {
   "cell_type": "code",
   "execution_count": 9,
   "metadata": {},
   "outputs": [],
   "source": [
    "def _batched_distance_box_iou(boxes1: Tensor, boxes2: Tensor, eps: float = 1e-7) -> Tensor:\n",
    "    \"\"\"\n",
    "    Return distance intersection-over-union (Jaccard index) between a batch of two sets of boxes.\n",
    "    Both sets of boxes are expected to be in ``(x1, y1, x2, y2)`` format with ``0 <= x1 < x2`` and ``0 <= y1 < y2``.\n",
    "    Args:\n",
    "        boxes1 (Tensor[..., N, 4]): batch of first set of boxes\n",
    "        boxes2 (Tensor[..., M, 4]): batch of second set of boxes\n",
    "    Returns:\n",
    "        Tensor[..., N, M]: each NxM matrix containing the pairwise IoU values for every element in boxes1 & boxes2 pair\n",
    "    \"\"\"\n",
    "    iou = _batched_box_iou(boxes1, boxes2)\n",
    "    lti = torch.min(boxes1[..., None, :2], boxes2[..., None, :, :2])\n",
    "    rbi = torch.max(boxes1[..., None, 2:], boxes2[..., None, :, 2:])\n",
    "    whi = (rbi - lti).clamp(min=0)\n",
    "    diagonal_distance_squared = (whi[..., 0] ** 2) + (whi[..., 1] ** 2) + eps\n",
    "    # Centers of boxes\n",
    "    cx_1 = (boxes1[..., 0] + boxes1[..., 2]) / 2\n",
    "    cy_1 = (boxes1[..., 1] + boxes1[..., 3]) / 2\n",
    "    cx_2 = (boxes2[..., 0] + boxes2[..., 2]) / 2\n",
    "    cy_2 = (boxes2[..., 1] + boxes2[..., 3]) / 2\n",
    "    # Distance between boxes' centers squared\n",
    "    centers_distance_squared = ((cx_1[..., None] - cx_2[..., None, :]) ** 2) + ((cy_1[..., None] - cy_2[..., None, :]) ** 2)\n",
    "    return iou - (centers_distance_squared / diagonal_distance_squared)"
   ]
  },
  {
   "cell_type": "code",
   "execution_count": 2,
   "metadata": {},
   "outputs": [],
   "source": [
    "B = 100_000\n",
    "\n",
    "preds = torch.tensor(\n",
    "    [\n",
    "        [296.55, 93.96, 314.97, 152.79],\n",
    "        [328.94, 97.05, 342.49, 122.98],\n",
    "        [356.62, 95.47, 372.33, 147.55],\n",
    "    ]\n",
    ")\n",
    "preds = preds.unsqueeze(0).expand(B, -1, -1)\n",
    "\n",
    "target = torch.tensor(\n",
    "    [\n",
    "        [300.00, 100.00, 315.00, 150.00],\n",
    "        [330.00, 100.00, 350.00, 125.00],\n",
    "        [350.00, 100.00, 375.00, 150.00],\n",
    "    ]\n",
    ")\n",
    "target = target.unsqueeze(0).expand(B, -1, -1)"
   ]
  },
  {
   "cell_type": "code",
   "execution_count": 3,
   "metadata": {},
   "outputs": [
    {
     "name": "stdout",
     "output_type": "stream",
     "text": [
      "tensor([[ 0.6883, -0.2043, -0.3351],\n",
      "        [-0.2214,  0.4886, -0.1913],\n",
      "        [-0.3971, -0.1510,  0.5609]])\n",
      "torchvision.ops.distance_box_iou: 11.184566736221313\n"
     ]
    }
   ],
   "source": [
    "t0 = time.time()\n",
    "for i in range(B):\n",
    "    iou = distance_box_iou(preds[i], target[i])\n",
    "t1 = time.time()\n",
    "print(iou)  # tensor([[ 0.6883, -0.2043, -0.3351],\n",
    "            #         [-0.2214,  0.4886, -0.1913],\n",
    "            #         [-0.3971, -0.1510,  0.5609]])\n",
    "print(\"torchvision.ops.distance_box_iou:\", t1-t0)"
   ]
  },
  {
   "cell_type": "code",
   "execution_count": 4,
   "metadata": {},
   "outputs": [
    {
     "name": "stdout",
     "output_type": "stream",
     "text": [
      "tensor([[ 0.6883, -0.2043, -0.3351],\n",
      "        [-0.2214,  0.4886, -0.1913],\n",
      "        [-0.3971, -0.1510,  0.5609]])\n",
      "torchvision.ops.box_iou: 11.260282039642334\n"
     ]
    }
   ],
   "source": [
    "t0 = time.time()\n",
    "for p, t in zip(preds, target):\n",
    "    iou = distance_box_iou(p, t)\n",
    "t1 = time.time()\n",
    "print(iou)  # tensor([[ 0.6883, -0.2043, -0.3351],\n",
    "            #         [-0.2214,  0.4886, -0.1913],\n",
    "            #         [-0.3971, -0.1510,  0.5609]])\n",
    "print(\"torchvision.ops.box_iou:\", t1-t0)"
   ]
  },
  {
   "cell_type": "code",
   "execution_count": 10,
   "metadata": {},
   "outputs": [
    {
     "name": "stdout",
     "output_type": "stream",
     "text": [
      "torch.Size([100000, 3, 3])\n",
      "tensor([[ 0.6883, -0.2043, -0.3351],\n",
      "        [-0.2214,  0.4886, -0.1913],\n",
      "        [-0.3971, -0.1510,  0.5609]])\n",
      "_batched_box_iou: 0.012221097946166992\n"
     ]
    }
   ],
   "source": [
    "t0 = time.time()\n",
    "iou = _batched_distance_box_iou(preds, target)\n",
    "t1 = time.time()\n",
    "print(iou.shape)\n",
    "print(iou[11])  # tensor([[ 0.6883, -0.2043, -0.3351],\n",
    "                #         [-0.2214,  0.4886, -0.1913],\n",
    "                #         [-0.3971, -0.1510,  0.5609]])\n",
    "print(\"_batched_distance_box_iou:\", t1-t0)"
   ]
  }
 ],
 "metadata": {
  "kernelspec": {
   "display_name": "nir-rppg-benchmarks",
   "language": "python",
   "name": "python3"
  },
  "language_info": {
   "codemirror_mode": {
    "name": "ipython",
    "version": 3
   },
   "file_extension": ".py",
   "mimetype": "text/x-python",
   "name": "python",
   "nbconvert_exporter": "python",
   "pygments_lexer": "ipython3",
   "version": "3.10.13"
  }
 },
 "nbformat": 4,
 "nbformat_minor": 2
}
